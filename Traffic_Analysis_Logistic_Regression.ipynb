{
 "cells": [
  {
   "cell_type": "code",
   "execution_count": 50,
   "id": "1cb8380a-f804-42c8-b22d-0f7fa2eabb78",
   "metadata": {},
   "outputs": [
    {
     "name": "stdout",
     "output_type": "stream",
     "text": [
      "  Million Plus Cities   Cause category Cause Subcategory  \\\n",
      "0                Agra  Traffic Control           Blinker   \n",
      "1                Agra  Traffic Control           Blinker   \n",
      "2                Agra  Traffic Control           Blinker   \n",
      "3                Agra  Traffic Control           Blinker   \n",
      "4                Agra  Traffic Control           Blinker   \n",
      "\n",
      "         Outcome of Incident  Count  \n",
      "0         Greviously Injured    0.0  \n",
      "1               Minor Injury    0.0  \n",
      "2             Persons Killed    0.0  \n",
      "3              Total Injured    0.0  \n",
      "4  Total number of Accidents    0.0  \n",
      "<class 'pandas.core.frame.DataFrame'>\n",
      "RangeIndex: 9550 entries, 0 to 9549\n",
      "Data columns (total 5 columns):\n",
      " #   Column               Non-Null Count  Dtype  \n",
      "---  ------               --------------  -----  \n",
      " 0   Million Plus Cities  9550 non-null   object \n",
      " 1   Cause category       9550 non-null   object \n",
      " 2   Cause Subcategory    9550 non-null   object \n",
      " 3   Outcome of Incident  9550 non-null   object \n",
      " 4   Count                9547 non-null   float64\n",
      "dtypes: float64(1), object(4)\n",
      "memory usage: 373.2+ KB\n",
      "None\n"
     ]
    }
   ],
   "source": [
    "import numpy as np\n",
    "import pandas as pd\n",
    "from sklearn.model_selection import train_test_split\n",
    "from sklearn.linear_model import LogisticRegression\n",
    "from sklearn.metrics import accuracy_score, confusion_matrix, classification_report, roc_auc_score\n",
    "# Load dataset\n",
    "df = pd.read_csv(r\"C:\\Users\\Olym\\Downloads\\Data_Analysis_Self_Projects\\Traffic_Analysis\\Regulatory Affairs of Road Accident Data 2020 India_Logistic_Regression.csv\")\n",
    "\n",
    "# See first rows\n",
    "print(df.head())\n",
    "print(df.info())"
   ]
  },
  {
   "cell_type": "code",
   "execution_count": 51,
   "id": "e32ef60f-f2fe-41a4-bfb6-dccf66eff604",
   "metadata": {},
   "outputs": [],
   "source": [
    "#Adding new column \"Outcome_Code\"\n",
    "df['Outcome_Code'] = df['Outcome of Incident'].map({\n",
    "    'Persons Killed': 1,       # Fatal\n",
    "    'Greviously Injured': 0,   # Non-Fatal\n",
    "    'Minor Injury': 0           # Non-Fatal\n",
    "})"
   ]
  },
  {
   "cell_type": "code",
   "execution_count": 52,
   "id": "363ce9ef-e137-4df6-86d5-1252dedd2e4b",
   "metadata": {},
   "outputs": [
    {
     "name": "stdout",
     "output_type": "stream",
     "text": [
      "['Greviously Injured' 'Minor Injury' 'Persons Killed' 'Total Injured'\n",
      " 'Total number of Accidents']\n",
      "Outcome_Code\n",
      "0.0    4000\n",
      "1.0    2000\n",
      "Name: count, dtype: int64\n"
     ]
    }
   ],
   "source": [
    "print(df['Outcome of Incident'].unique())\n",
    "print(df['Outcome_Code'].value_counts())"
   ]
  },
  {
   "cell_type": "code",
   "execution_count": 53,
   "id": "f1dc7754-c6cc-49b0-a004-0ca6ed0200e4",
   "metadata": {},
   "outputs": [],
   "source": [
    "# List of rows to remove\n",
    "unwanted_rows = ['Total Injured', 'Total number of Accidents']\n",
    "\n",
    "# Keep only rows that are NOT in the unwanted list\n",
    "df = df[~df['Outcome of Incident'].isin(unwanted_rows)]"
   ]
  },
  {
   "cell_type": "code",
   "execution_count": 54,
   "id": "463403e5-a685-4ab4-be74-bddff54dd324",
   "metadata": {},
   "outputs": [
    {
     "data": {
      "text/plain": [
       "array(['Greviously Injured', 'Minor Injury', 'Persons Killed'],\n",
       "      dtype=object)"
      ]
     },
     "execution_count": 54,
     "metadata": {},
     "output_type": "execute_result"
    }
   ],
   "source": [
    "df['Outcome of Incident'].unique() #checking if the null values are removed"
   ]
  },
  {
   "cell_type": "code",
   "execution_count": 55,
   "id": "414bc2d9-fb7f-438b-a9a5-6f2f242206c2",
   "metadata": {},
   "outputs": [],
   "source": [
    "#Dropping the 'Outcome of Incident' column as it's of no use after encoding\n",
    "df = df.drop(columns=['Outcome of Incident', 'Count'])"
   ]
  },
  {
   "cell_type": "code",
   "execution_count": 56,
   "id": "03c53d92-21b1-4b65-97d5-5427e27cc593",
   "metadata": {},
   "outputs": [
    {
     "data": {
      "text/html": [
       "<div>\n",
       "<style scoped>\n",
       "    .dataframe tbody tr th:only-of-type {\n",
       "        vertical-align: middle;\n",
       "    }\n",
       "\n",
       "    .dataframe tbody tr th {\n",
       "        vertical-align: top;\n",
       "    }\n",
       "\n",
       "    .dataframe thead th {\n",
       "        text-align: right;\n",
       "    }\n",
       "</style>\n",
       "<table border=\"1\" class=\"dataframe\">\n",
       "  <thead>\n",
       "    <tr style=\"text-align: right;\">\n",
       "      <th></th>\n",
       "      <th>Million Plus Cities</th>\n",
       "      <th>Cause category</th>\n",
       "      <th>Cause Subcategory</th>\n",
       "      <th>Outcome_Code</th>\n",
       "    </tr>\n",
       "  </thead>\n",
       "  <tbody>\n",
       "    <tr>\n",
       "      <th>0</th>\n",
       "      <td>Agra</td>\n",
       "      <td>Traffic Control</td>\n",
       "      <td>Blinker</td>\n",
       "      <td>0.0</td>\n",
       "    </tr>\n",
       "    <tr>\n",
       "      <th>1</th>\n",
       "      <td>Agra</td>\n",
       "      <td>Traffic Control</td>\n",
       "      <td>Blinker</td>\n",
       "      <td>0.0</td>\n",
       "    </tr>\n",
       "    <tr>\n",
       "      <th>2</th>\n",
       "      <td>Agra</td>\n",
       "      <td>Traffic Control</td>\n",
       "      <td>Blinker</td>\n",
       "      <td>1.0</td>\n",
       "    </tr>\n",
       "    <tr>\n",
       "      <th>5</th>\n",
       "      <td>Agra</td>\n",
       "      <td>Traffic Control</td>\n",
       "      <td>Other</td>\n",
       "      <td>0.0</td>\n",
       "    </tr>\n",
       "    <tr>\n",
       "      <th>6</th>\n",
       "      <td>Agra</td>\n",
       "      <td>Traffic Control</td>\n",
       "      <td>Other</td>\n",
       "      <td>0.0</td>\n",
       "    </tr>\n",
       "  </tbody>\n",
       "</table>\n",
       "</div>"
      ],
      "text/plain": [
       "  Million Plus Cities   Cause category Cause Subcategory  Outcome_Code\n",
       "0                Agra  Traffic Control           Blinker           0.0\n",
       "1                Agra  Traffic Control           Blinker           0.0\n",
       "2                Agra  Traffic Control           Blinker           1.0\n",
       "5                Agra  Traffic Control             Other           0.0\n",
       "6                Agra  Traffic Control             Other           0.0"
      ]
     },
     "execution_count": 56,
     "metadata": {},
     "output_type": "execute_result"
    }
   ],
   "source": [
    "df.head()"
   ]
  },
  {
   "cell_type": "code",
   "execution_count": 57,
   "id": "943c58a4-408c-47f7-93cf-28661f92fec5",
   "metadata": {},
   "outputs": [],
   "source": [
    "#Changing the data type of the feature columns into type 'str' so that it can be encoded properly\n",
    "cols_to_encode = ['Million Plus Cities', 'Cause category', 'Cause Subcategory']\n",
    "\n",
    "for col in cols_to_encode:\n",
    "    df[col] = df[col].astype(str)"
   ]
  },
  {
   "cell_type": "code",
   "execution_count": 58,
   "id": "588c8237-3221-4460-8a95-d9cf5798cb49",
   "metadata": {},
   "outputs": [],
   "source": [
    "#One hot encoding the avlues in the feature columns\n",
    "#df_encoded is the transformed version of df after applying one-hot encoding (or other preprocessing).\n",
    "df_encoded = pd.get_dummies(df, columns=cols_to_encode)"
   ]
  },
  {
   "cell_type": "code",
   "execution_count": 59,
   "id": "f320914b-fd1c-4e11-b17c-2e9cb2261ec6",
   "metadata": {},
   "outputs": [
    {
     "data": {
      "text/html": [
       "<div>\n",
       "<style scoped>\n",
       "    .dataframe tbody tr th:only-of-type {\n",
       "        vertical-align: middle;\n",
       "    }\n",
       "\n",
       "    .dataframe tbody tr th {\n",
       "        vertical-align: top;\n",
       "    }\n",
       "\n",
       "    .dataframe thead th {\n",
       "        text-align: right;\n",
       "    }\n",
       "</style>\n",
       "<table border=\"1\" class=\"dataframe\">\n",
       "  <thead>\n",
       "    <tr style=\"text-align: right;\">\n",
       "      <th></th>\n",
       "      <th>Outcome_Code</th>\n",
       "      <th>Million Plus Cities_Agra</th>\n",
       "      <th>Million Plus Cities_Ahmedabad</th>\n",
       "      <th>Million Plus Cities_Allahabad(Prayagraj)</th>\n",
       "      <th>Million Plus Cities_Amritsar</th>\n",
       "      <th>Million Plus Cities_Asansol Durgapur</th>\n",
       "      <th>Million Plus Cities_Aurangabad</th>\n",
       "      <th>Million Plus Cities_Bengaluru</th>\n",
       "      <th>Million Plus Cities_Bhopal</th>\n",
       "      <th>Million Plus Cities_Chandigarh</th>\n",
       "      <th>...</th>\n",
       "      <th>Cause Subcategory_Round about Junction</th>\n",
       "      <th>Cause Subcategory_Staggered Junction</th>\n",
       "      <th>Cause Subcategory_Steep Grade</th>\n",
       "      <th>Cause Subcategory_Stop Sign</th>\n",
       "      <th>Cause Subcategory_Straight Road</th>\n",
       "      <th>Cause Subcategory_Sunny</th>\n",
       "      <th>Cause Subcategory_Traffic Light Signal</th>\n",
       "      <th>Cause Subcategory_Two Wheelers</th>\n",
       "      <th>Cause Subcategory_Uncontrolled</th>\n",
       "      <th>Cause Subcategory_Use of Mobile Phone</th>\n",
       "    </tr>\n",
       "  </thead>\n",
       "  <tbody>\n",
       "    <tr>\n",
       "      <th>0</th>\n",
       "      <td>0.0</td>\n",
       "      <td>True</td>\n",
       "      <td>False</td>\n",
       "      <td>False</td>\n",
       "      <td>False</td>\n",
       "      <td>False</td>\n",
       "      <td>False</td>\n",
       "      <td>False</td>\n",
       "      <td>False</td>\n",
       "      <td>False</td>\n",
       "      <td>...</td>\n",
       "      <td>False</td>\n",
       "      <td>False</td>\n",
       "      <td>False</td>\n",
       "      <td>False</td>\n",
       "      <td>False</td>\n",
       "      <td>False</td>\n",
       "      <td>False</td>\n",
       "      <td>False</td>\n",
       "      <td>False</td>\n",
       "      <td>False</td>\n",
       "    </tr>\n",
       "    <tr>\n",
       "      <th>1</th>\n",
       "      <td>0.0</td>\n",
       "      <td>True</td>\n",
       "      <td>False</td>\n",
       "      <td>False</td>\n",
       "      <td>False</td>\n",
       "      <td>False</td>\n",
       "      <td>False</td>\n",
       "      <td>False</td>\n",
       "      <td>False</td>\n",
       "      <td>False</td>\n",
       "      <td>...</td>\n",
       "      <td>False</td>\n",
       "      <td>False</td>\n",
       "      <td>False</td>\n",
       "      <td>False</td>\n",
       "      <td>False</td>\n",
       "      <td>False</td>\n",
       "      <td>False</td>\n",
       "      <td>False</td>\n",
       "      <td>False</td>\n",
       "      <td>False</td>\n",
       "    </tr>\n",
       "    <tr>\n",
       "      <th>2</th>\n",
       "      <td>1.0</td>\n",
       "      <td>True</td>\n",
       "      <td>False</td>\n",
       "      <td>False</td>\n",
       "      <td>False</td>\n",
       "      <td>False</td>\n",
       "      <td>False</td>\n",
       "      <td>False</td>\n",
       "      <td>False</td>\n",
       "      <td>False</td>\n",
       "      <td>...</td>\n",
       "      <td>False</td>\n",
       "      <td>False</td>\n",
       "      <td>False</td>\n",
       "      <td>False</td>\n",
       "      <td>False</td>\n",
       "      <td>False</td>\n",
       "      <td>False</td>\n",
       "      <td>False</td>\n",
       "      <td>False</td>\n",
       "      <td>False</td>\n",
       "    </tr>\n",
       "    <tr>\n",
       "      <th>5</th>\n",
       "      <td>0.0</td>\n",
       "      <td>True</td>\n",
       "      <td>False</td>\n",
       "      <td>False</td>\n",
       "      <td>False</td>\n",
       "      <td>False</td>\n",
       "      <td>False</td>\n",
       "      <td>False</td>\n",
       "      <td>False</td>\n",
       "      <td>False</td>\n",
       "      <td>...</td>\n",
       "      <td>False</td>\n",
       "      <td>False</td>\n",
       "      <td>False</td>\n",
       "      <td>False</td>\n",
       "      <td>False</td>\n",
       "      <td>False</td>\n",
       "      <td>False</td>\n",
       "      <td>False</td>\n",
       "      <td>False</td>\n",
       "      <td>False</td>\n",
       "    </tr>\n",
       "    <tr>\n",
       "      <th>6</th>\n",
       "      <td>0.0</td>\n",
       "      <td>True</td>\n",
       "      <td>False</td>\n",
       "      <td>False</td>\n",
       "      <td>False</td>\n",
       "      <td>False</td>\n",
       "      <td>False</td>\n",
       "      <td>False</td>\n",
       "      <td>False</td>\n",
       "      <td>False</td>\n",
       "      <td>...</td>\n",
       "      <td>False</td>\n",
       "      <td>False</td>\n",
       "      <td>False</td>\n",
       "      <td>False</td>\n",
       "      <td>False</td>\n",
       "      <td>False</td>\n",
       "      <td>False</td>\n",
       "      <td>False</td>\n",
       "      <td>False</td>\n",
       "      <td>False</td>\n",
       "    </tr>\n",
       "  </tbody>\n",
       "</table>\n",
       "<p>5 rows × 89 columns</p>\n",
       "</div>"
      ],
      "text/plain": [
       "   Outcome_Code  Million Plus Cities_Agra  Million Plus Cities_Ahmedabad  \\\n",
       "0           0.0                      True                          False   \n",
       "1           0.0                      True                          False   \n",
       "2           1.0                      True                          False   \n",
       "5           0.0                      True                          False   \n",
       "6           0.0                      True                          False   \n",
       "\n",
       "   Million Plus Cities_Allahabad(Prayagraj)  Million Plus Cities_Amritsar  \\\n",
       "0                                     False                         False   \n",
       "1                                     False                         False   \n",
       "2                                     False                         False   \n",
       "5                                     False                         False   \n",
       "6                                     False                         False   \n",
       "\n",
       "   Million Plus Cities_Asansol Durgapur  Million Plus Cities_Aurangabad  \\\n",
       "0                                 False                           False   \n",
       "1                                 False                           False   \n",
       "2                                 False                           False   \n",
       "5                                 False                           False   \n",
       "6                                 False                           False   \n",
       "\n",
       "   Million Plus Cities_Bengaluru  Million Plus Cities_Bhopal  \\\n",
       "0                          False                       False   \n",
       "1                          False                       False   \n",
       "2                          False                       False   \n",
       "5                          False                       False   \n",
       "6                          False                       False   \n",
       "\n",
       "   Million Plus Cities_Chandigarh  ...  \\\n",
       "0                           False  ...   \n",
       "1                           False  ...   \n",
       "2                           False  ...   \n",
       "5                           False  ...   \n",
       "6                           False  ...   \n",
       "\n",
       "   Cause Subcategory_Round about Junction  \\\n",
       "0                                   False   \n",
       "1                                   False   \n",
       "2                                   False   \n",
       "5                                   False   \n",
       "6                                   False   \n",
       "\n",
       "   Cause Subcategory_Staggered Junction  Cause Subcategory_Steep Grade  \\\n",
       "0                                 False                          False   \n",
       "1                                 False                          False   \n",
       "2                                 False                          False   \n",
       "5                                 False                          False   \n",
       "6                                 False                          False   \n",
       "\n",
       "   Cause Subcategory_Stop Sign  Cause Subcategory_Straight Road  \\\n",
       "0                        False                            False   \n",
       "1                        False                            False   \n",
       "2                        False                            False   \n",
       "5                        False                            False   \n",
       "6                        False                            False   \n",
       "\n",
       "   Cause Subcategory_Sunny  Cause Subcategory_Traffic Light Signal  \\\n",
       "0                    False                                   False   \n",
       "1                    False                                   False   \n",
       "2                    False                                   False   \n",
       "5                    False                                   False   \n",
       "6                    False                                   False   \n",
       "\n",
       "   Cause Subcategory_Two Wheelers  Cause Subcategory_Uncontrolled  \\\n",
       "0                           False                           False   \n",
       "1                           False                           False   \n",
       "2                           False                           False   \n",
       "5                           False                           False   \n",
       "6                           False                           False   \n",
       "\n",
       "   Cause Subcategory_Use of Mobile Phone  \n",
       "0                                  False  \n",
       "1                                  False  \n",
       "2                                  False  \n",
       "5                                  False  \n",
       "6                                  False  \n",
       "\n",
       "[5 rows x 89 columns]"
      ]
     },
     "execution_count": 59,
     "metadata": {},
     "output_type": "execute_result"
    }
   ],
   "source": [
    "df_encoded.head() #checking the data"
   ]
  },
  {
   "cell_type": "markdown",
   "id": "3aa27979-3644-419a-8a39-c07eaba7e99b",
   "metadata": {},
   "source": [
    "#### Preparing Features and Target"
   ]
  },
  {
   "cell_type": "code",
   "execution_count": 60,
   "id": "40eb3e9e-95d5-491d-9921-740ae192f69c",
   "metadata": {},
   "outputs": [],
   "source": [
    "# X = all feature columns\n",
    "# y = target column\n",
    "X = df_encoded.drop('Outcome_Code', axis=1)  # here drop means all the columns except the one used for target column\n",
    "y = df_encoded['Outcome_Code']"
   ]
  },
  {
   "cell_type": "markdown",
   "id": "057e8b97-5c63-4edf-98a9-352feedf2c72",
   "metadata": {},
   "source": [
    "#### Splitting data into training and testing sets"
   ]
  },
  {
   "cell_type": "code",
   "execution_count": 61,
   "id": "4bfe2208-6565-4b68-8269-a20bc97852e1",
   "metadata": {},
   "outputs": [],
   "source": [
    "X_train, X_test, y_train, y_test = train_test_split(X, y, test_size=0.2, random_state=42)"
   ]
  },
  {
   "cell_type": "markdown",
   "id": "60c05fcc-b594-4e80-b374-5630e5b6ac4a",
   "metadata": {},
   "source": [
    "### Training the model"
   ]
  },
  {
   "cell_type": "markdown",
   "id": "122ce8d4-3866-4cac-b177-972dc0450d06",
   "metadata": {},
   "source": [
    "#### Baseline Logistic Regression without class weight balance (default settings)"
   ]
  },
  {
   "cell_type": "code",
   "execution_count": 76,
   "id": "a61ad0ff-a221-482b-b719-bb7a8b178c25",
   "metadata": {},
   "outputs": [
    {
     "name": "stdout",
     "output_type": "stream",
     "text": [
      "Accuracy: 0.6616666666666666\n",
      "Default Threshold (0.5):\n",
      "Confusion Matrix:\n",
      " [[794   0]\n",
      " [406   0]]\n",
      "Classification Report:\n",
      "               precision    recall  f1-score   support\n",
      "\n",
      "         0.0       0.66      1.00      0.80       794\n",
      "         1.0       0.00      0.00      0.00       406\n",
      "\n",
      "    accuracy                           0.66      1200\n",
      "   macro avg       0.33      0.50      0.40      1200\n",
      "weighted avg       0.44      0.66      0.53      1200\n",
      "\n",
      "ROC-AUC: 0.3594446029953717\n"
     ]
    },
    {
     "name": "stderr",
     "output_type": "stream",
     "text": [
      "C:\\ProgramData\\anaconda3\\Lib\\site-packages\\sklearn\\metrics\\_classification.py:1531: UndefinedMetricWarning: Precision is ill-defined and being set to 0.0 in labels with no predicted samples. Use `zero_division` parameter to control this behavior.\n",
      "  _warn_prf(average, modifier, f\"{metric.capitalize()} is\", len(result))\n",
      "C:\\ProgramData\\anaconda3\\Lib\\site-packages\\sklearn\\metrics\\_classification.py:1531: UndefinedMetricWarning: Precision is ill-defined and being set to 0.0 in labels with no predicted samples. Use `zero_division` parameter to control this behavior.\n",
      "  _warn_prf(average, modifier, f\"{metric.capitalize()} is\", len(result))\n",
      "C:\\ProgramData\\anaconda3\\Lib\\site-packages\\sklearn\\metrics\\_classification.py:1531: UndefinedMetricWarning: Precision is ill-defined and being set to 0.0 in labels with no predicted samples. Use `zero_division` parameter to control this behavior.\n",
      "  _warn_prf(average, modifier, f\"{metric.capitalize()} is\", len(result))\n"
     ]
    }
   ],
   "source": [
    "# training the model\n",
    "model = LogisticRegression (max_iter=1000)\n",
    "model.fit(X_train, y_train)\n",
    "y_pred = model.predict(X_test)\n",
    "\n",
    "#Report of  how the model performs\n",
    "# Accuracy\n",
    "print(\"Accuracy:\", accuracy_score(y_test, y_pred))\n",
    "print(\"Default Threshold (0.5):\")\n",
    "# Confusion Matrix\n",
    "print(\"Confusion Matrix:\\n\", confusion_matrix(y_test, y_pred))\n",
    "# Classification Report\n",
    "print(\"Classification Report:\\n\", classification_report(y_test, y_pred))\n",
    "print(\"ROC-AUC:\", roc_auc_score(y_test, y_prob))"
   ]
  },
  {
   "cell_type": "markdown",
   "id": "bfdfaed9-9f62-4734-9ae6-b0a70eec5740",
   "metadata": {},
   "source": [
    "#### Logistic Regression with Class Weight Balanced (Threshold = 0.5)"
   ]
  },
  {
   "cell_type": "code",
   "execution_count": 70,
   "id": "fb0c0bdd-5b17-4de3-b12f-aed4d7e3e099",
   "metadata": {},
   "outputs": [],
   "source": [
    "model = LogisticRegression(class_weight='balanced', max_iter=1000)\n",
    "model.fit(X_train, y_train)\n",
    "y_pred = model.predict(X_test)\n",
    "y_prob = model.predict_proba(X_test)[:,1]\n",
    "#y_pred_new = (y_prob >= 0.3).astype(int)  # try 0.3 instead of 0.5"
   ]
  },
  {
   "cell_type": "code",
   "execution_count": 71,
   "id": "4bb6f7c0-e6f0-4923-bbb6-c8a881b81fe1",
   "metadata": {},
   "outputs": [
    {
     "name": "stdout",
     "output_type": "stream",
     "text": [
      "Accuracy: 0.4175\n",
      "Default Threshold (0.5):\n",
      "Confusion Matrix:\n",
      " [[358 436]\n",
      " [263 143]]\n",
      "Classification Report:\n",
      "               precision    recall  f1-score   support\n",
      "\n",
      "         0.0       0.58      0.45      0.51       794\n",
      "         1.0       0.25      0.35      0.29       406\n",
      "\n",
      "    accuracy                           0.42      1200\n",
      "   macro avg       0.41      0.40      0.40      1200\n",
      "weighted avg       0.47      0.42      0.43      1200\n",
      "\n",
      "ROC-AUC: 0.3594446029953717\n"
     ]
    }
   ],
   "source": [
    "# Accuracy\n",
    "print(\"Accuracy:\", accuracy_score(y_test, y_pred))\n",
    "\n",
    "print(\"Default Threshold (0.5):\")\n",
    "# Confusion Matrix\n",
    "print(\"Confusion Matrix:\\n\", confusion_matrix(y_test, y_pred))\n",
    "# Classification Report\n",
    "print(\"Classification Report:\\n\", classification_report(y_test, y_pred))\n",
    "# ROC AUC\n",
    "print(\"ROC-AUC:\", roc_auc_score(y_test, y_prob))"
   ]
  },
  {
   "cell_type": "markdown",
   "id": "f7586ff9-a3a5-4d3a-8b2d-45d384ca35f0",
   "metadata": {},
   "source": [
    "#### Logistic Regression with Class Weight Balanced (Threshold = 0.3)\n",
    "##### 1. Lowering the threshold usually improves recall for class 1 (catches more positives)\n",
    "##### 2. It may reduce precision for class 0 (more false alarms)."
   ]
  },
  {
   "cell_type": "code",
   "execution_count": 73,
   "id": "3816b4b1-218a-4b9f-953f-b67bfa44b4ff",
   "metadata": {},
   "outputs": [],
   "source": [
    "# After changing the threshold to 0.3\n",
    "model = LogisticRegression(class_weight='balanced', max_iter=1000)\n",
    "model.fit(X_train, y_train)\n",
    "y_pred = model.predict(X_test)\n",
    "y_prob = model.predict_proba(X_test)[:,1]\n",
    "y_pred_new = (y_prob >= 0.3).astype(int)  # try 0.3 instead of 0.5"
   ]
  },
  {
   "cell_type": "code",
   "execution_count": 77,
   "id": "7c263efd-ca50-4030-b149-40d17bcfba3f",
   "metadata": {},
   "outputs": [
    {
     "name": "stdout",
     "output_type": "stream",
     "text": [
      "Accuracy: 0.3383333333333333\n",
      "Custom Threshold (0.3):\n",
      "[[  0 794]\n",
      " [  0 406]]\n",
      "              precision    recall  f1-score   support\n",
      "\n",
      "         0.0       0.00      0.00      0.00       794\n",
      "         1.0       0.34      1.00      0.51       406\n",
      "\n",
      "    accuracy                           0.34      1200\n",
      "   macro avg       0.17      0.50      0.25      1200\n",
      "weighted avg       0.11      0.34      0.17      1200\n",
      "\n",
      "ROC-AUC: 0.5\n"
     ]
    },
    {
     "name": "stderr",
     "output_type": "stream",
     "text": [
      "C:\\ProgramData\\anaconda3\\Lib\\site-packages\\sklearn\\metrics\\_classification.py:1531: UndefinedMetricWarning: Precision is ill-defined and being set to 0.0 in labels with no predicted samples. Use `zero_division` parameter to control this behavior.\n",
      "  _warn_prf(average, modifier, f\"{metric.capitalize()} is\", len(result))\n",
      "C:\\ProgramData\\anaconda3\\Lib\\site-packages\\sklearn\\metrics\\_classification.py:1531: UndefinedMetricWarning: Precision is ill-defined and being set to 0.0 in labels with no predicted samples. Use `zero_division` parameter to control this behavior.\n",
      "  _warn_prf(average, modifier, f\"{metric.capitalize()} is\", len(result))\n",
      "C:\\ProgramData\\anaconda3\\Lib\\site-packages\\sklearn\\metrics\\_classification.py:1531: UndefinedMetricWarning: Precision is ill-defined and being set to 0.0 in labels with no predicted samples. Use `zero_division` parameter to control this behavior.\n",
      "  _warn_prf(average, modifier, f\"{metric.capitalize()} is\", len(result))\n"
     ]
    }
   ],
   "source": [
    "#Accuracy checking\n",
    "print(\"Accuracy:\", accuracy_score(y_test, y_pred_new))\n",
    "print(\"Custom Threshold (0.3):\")\n",
    "# Confusion Matrix\n",
    "print(confusion_matrix(y_test, y_pred_new))\n",
    "# Classification Report\n",
    "print(classification_report(y_test, y_pred_new))\n",
    "print(\"ROC-AUC:\", roc_auc_score(y_test, y_pred_new))"
   ]
  },
  {
   "cell_type": "code",
   "execution_count": null,
   "id": "ff788870-a9ae-4799-9a6f-bed36cb492c2",
   "metadata": {},
   "outputs": [],
   "source": []
  }
 ],
 "metadata": {
  "kernelspec": {
   "display_name": "Python 3 (ipykernel)",
   "language": "python",
   "name": "python3"
  },
  "language_info": {
   "codemirror_mode": {
    "name": "ipython",
    "version": 3
   },
   "file_extension": ".py",
   "mimetype": "text/x-python",
   "name": "python",
   "nbconvert_exporter": "python",
   "pygments_lexer": "ipython3",
   "version": "3.12.3"
  }
 },
 "nbformat": 4,
 "nbformat_minor": 5
}
